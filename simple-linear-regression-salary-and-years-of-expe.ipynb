{
 "cells": [
  {
   "cell_type": "code",
   "execution_count": 1,
   "id": "d82b73e6",
   "metadata": {
    "execution": {
     "iopub.execute_input": "2024-05-11T19:35:32.299298Z",
     "iopub.status.busy": "2024-05-11T19:35:32.298531Z",
     "iopub.status.idle": "2024-05-11T19:35:34.580403Z",
     "shell.execute_reply": "2024-05-11T19:35:34.579127Z"
    },
    "papermill": {
     "duration": 2.291894,
     "end_time": "2024-05-11T19:35:34.583709",
     "exception": false,
     "start_time": "2024-05-11T19:35:32.291815",
     "status": "completed"
    },
    "tags": []
   },
   "outputs": [],
   "source": [
    "# import the required libraries\n",
    "import pandas as pd\n",
    "import numpy as np\n",
    "import matplotlib.pyplot as plt\n",
    "%matplotlib inline\n",
    "from sklearn.linear_model import LinearRegression\n",
    "from sklearn.model_selection import train_test_split\n",
    "from sklearn.metrics import mean_squared_error, r2_score"
   ]
  },
  {
   "cell_type": "code",
   "execution_count": 2,
   "id": "855cb759",
   "metadata": {
    "execution": {
     "iopub.execute_input": "2024-05-11T19:35:34.594237Z",
     "iopub.status.busy": "2024-05-11T19:35:34.593687Z",
     "iopub.status.idle": "2024-05-11T19:35:34.620926Z",
     "shell.execute_reply": "2024-05-11T19:35:34.619624Z"
    },
    "papermill": {
     "duration": 0.036169,
     "end_time": "2024-05-11T19:35:34.624321",
     "exception": false,
     "start_time": "2024-05-11T19:35:34.588152",
     "status": "completed"
    },
    "tags": []
   },
   "outputs": [],
   "source": [
    "# this reads the file into the variable file1\n",
    "file1 = pd.read_csv ('/kaggle/input/salary-dataset-simple-linear-regression/Salary_dataset.csv')"
   ]
  },
  {
   "cell_type": "code",
   "execution_count": 3,
   "id": "83196310",
   "metadata": {
    "execution": {
     "iopub.execute_input": "2024-05-11T19:35:34.635191Z",
     "iopub.status.busy": "2024-05-11T19:35:34.634756Z",
     "iopub.status.idle": "2024-05-11T19:35:34.645390Z",
     "shell.execute_reply": "2024-05-11T19:35:34.644289Z"
    },
    "papermill": {
     "duration": 0.018966,
     "end_time": "2024-05-11T19:35:34.647897",
     "exception": false,
     "start_time": "2024-05-11T19:35:34.628931",
     "status": "completed"
    },
    "tags": []
   },
   "outputs": [],
   "source": [
    "# this establishes the required equation\n",
    "x = file1['YearsExperience']\n",
    "y = file1['Salary']\n",
    "x = x.values.reshape(-1, 1)"
   ]
  },
  {
   "cell_type": "code",
   "execution_count": 4,
   "id": "a0e8d0f2",
   "metadata": {
    "execution": {
     "iopub.execute_input": "2024-05-11T19:35:34.658982Z",
     "iopub.status.busy": "2024-05-11T19:35:34.658222Z",
     "iopub.status.idle": "2024-05-11T19:35:34.666643Z",
     "shell.execute_reply": "2024-05-11T19:35:34.665516Z"
    },
    "papermill": {
     "duration": 0.017249,
     "end_time": "2024-05-11T19:35:34.669565",
     "exception": false,
     "start_time": "2024-05-11T19:35:34.652316",
     "status": "completed"
    },
    "tags": []
   },
   "outputs": [],
   "source": [
    "# splitting of the data set into training and testing parts.\n",
    "# the sequence of this entry makes a world of difference, as different ordering gives a varying shape to the train and test splits. \n",
    "# hence, produces and error message when ran.\n",
    "x_train, x_test, y_train, y_test = train_test_split (x, y, test_size = 0.2, random_state = 0, shuffle = False)"
   ]
  },
  {
   "cell_type": "code",
   "execution_count": 5,
   "id": "4e45db95",
   "metadata": {
    "execution": {
     "iopub.execute_input": "2024-05-11T19:35:34.680696Z",
     "iopub.status.busy": "2024-05-11T19:35:34.680312Z",
     "iopub.status.idle": "2024-05-11T19:35:34.706563Z",
     "shell.execute_reply": "2024-05-11T19:35:34.705246Z"
    },
    "papermill": {
     "duration": 0.034767,
     "end_time": "2024-05-11T19:35:34.709031",
     "exception": false,
     "start_time": "2024-05-11T19:35:34.674264",
     "status": "completed"
    },
    "tags": []
   },
   "outputs": [
    {
     "data": {
      "text/html": [
       "<style>#sk-container-id-1 {color: black;background-color: white;}#sk-container-id-1 pre{padding: 0;}#sk-container-id-1 div.sk-toggleable {background-color: white;}#sk-container-id-1 label.sk-toggleable__label {cursor: pointer;display: block;width: 100%;margin-bottom: 0;padding: 0.3em;box-sizing: border-box;text-align: center;}#sk-container-id-1 label.sk-toggleable__label-arrow:before {content: \"▸\";float: left;margin-right: 0.25em;color: #696969;}#sk-container-id-1 label.sk-toggleable__label-arrow:hover:before {color: black;}#sk-container-id-1 div.sk-estimator:hover label.sk-toggleable__label-arrow:before {color: black;}#sk-container-id-1 div.sk-toggleable__content {max-height: 0;max-width: 0;overflow: hidden;text-align: left;background-color: #f0f8ff;}#sk-container-id-1 div.sk-toggleable__content pre {margin: 0.2em;color: black;border-radius: 0.25em;background-color: #f0f8ff;}#sk-container-id-1 input.sk-toggleable__control:checked~div.sk-toggleable__content {max-height: 200px;max-width: 100%;overflow: auto;}#sk-container-id-1 input.sk-toggleable__control:checked~label.sk-toggleable__label-arrow:before {content: \"▾\";}#sk-container-id-1 div.sk-estimator input.sk-toggleable__control:checked~label.sk-toggleable__label {background-color: #d4ebff;}#sk-container-id-1 div.sk-label input.sk-toggleable__control:checked~label.sk-toggleable__label {background-color: #d4ebff;}#sk-container-id-1 input.sk-hidden--visually {border: 0;clip: rect(1px 1px 1px 1px);clip: rect(1px, 1px, 1px, 1px);height: 1px;margin: -1px;overflow: hidden;padding: 0;position: absolute;width: 1px;}#sk-container-id-1 div.sk-estimator {font-family: monospace;background-color: #f0f8ff;border: 1px dotted black;border-radius: 0.25em;box-sizing: border-box;margin-bottom: 0.5em;}#sk-container-id-1 div.sk-estimator:hover {background-color: #d4ebff;}#sk-container-id-1 div.sk-parallel-item::after {content: \"\";width: 100%;border-bottom: 1px solid gray;flex-grow: 1;}#sk-container-id-1 div.sk-label:hover label.sk-toggleable__label {background-color: #d4ebff;}#sk-container-id-1 div.sk-serial::before {content: \"\";position: absolute;border-left: 1px solid gray;box-sizing: border-box;top: 0;bottom: 0;left: 50%;z-index: 0;}#sk-container-id-1 div.sk-serial {display: flex;flex-direction: column;align-items: center;background-color: white;padding-right: 0.2em;padding-left: 0.2em;position: relative;}#sk-container-id-1 div.sk-item {position: relative;z-index: 1;}#sk-container-id-1 div.sk-parallel {display: flex;align-items: stretch;justify-content: center;background-color: white;position: relative;}#sk-container-id-1 div.sk-item::before, #sk-container-id-1 div.sk-parallel-item::before {content: \"\";position: absolute;border-left: 1px solid gray;box-sizing: border-box;top: 0;bottom: 0;left: 50%;z-index: -1;}#sk-container-id-1 div.sk-parallel-item {display: flex;flex-direction: column;z-index: 1;position: relative;background-color: white;}#sk-container-id-1 div.sk-parallel-item:first-child::after {align-self: flex-end;width: 50%;}#sk-container-id-1 div.sk-parallel-item:last-child::after {align-self: flex-start;width: 50%;}#sk-container-id-1 div.sk-parallel-item:only-child::after {width: 0;}#sk-container-id-1 div.sk-dashed-wrapped {border: 1px dashed gray;margin: 0 0.4em 0.5em 0.4em;box-sizing: border-box;padding-bottom: 0.4em;background-color: white;}#sk-container-id-1 div.sk-label label {font-family: monospace;font-weight: bold;display: inline-block;line-height: 1.2em;}#sk-container-id-1 div.sk-label-container {text-align: center;}#sk-container-id-1 div.sk-container {/* jupyter's `normalize.less` sets `[hidden] { display: none; }` but bootstrap.min.css set `[hidden] { display: none !important; }` so we also need the `!important` here to be able to override the default hidden behavior on the sphinx rendered scikit-learn.org. See: https://github.com/scikit-learn/scikit-learn/issues/21755 */display: inline-block !important;position: relative;}#sk-container-id-1 div.sk-text-repr-fallback {display: none;}</style><div id=\"sk-container-id-1\" class=\"sk-top-container\"><div class=\"sk-text-repr-fallback\"><pre>LinearRegression()</pre><b>In a Jupyter environment, please rerun this cell to show the HTML representation or trust the notebook. <br />On GitHub, the HTML representation is unable to render, please try loading this page with nbviewer.org.</b></div><div class=\"sk-container\" hidden><div class=\"sk-item\"><div class=\"sk-estimator sk-toggleable\"><input class=\"sk-toggleable__control sk-hidden--visually\" id=\"sk-estimator-id-1\" type=\"checkbox\" checked><label for=\"sk-estimator-id-1\" class=\"sk-toggleable__label sk-toggleable__label-arrow\">LinearRegression</label><div class=\"sk-toggleable__content\"><pre>LinearRegression()</pre></div></div></div></div></div>"
      ],
      "text/plain": [
       "LinearRegression()"
      ]
     },
     "execution_count": 5,
     "metadata": {},
     "output_type": "execute_result"
    }
   ],
   "source": [
    "# building the model\n",
    "model = LinearRegression()\n",
    "model.fit(x_train, y_train)"
   ]
  },
  {
   "cell_type": "code",
   "execution_count": 6,
   "id": "4a2880bf",
   "metadata": {
    "execution": {
     "iopub.execute_input": "2024-05-11T19:35:34.720248Z",
     "iopub.status.busy": "2024-05-11T19:35:34.719687Z",
     "iopub.status.idle": "2024-05-11T19:35:34.727544Z",
     "shell.execute_reply": "2024-05-11T19:35:34.726237Z"
    },
    "papermill": {
     "duration": 0.01649,
     "end_time": "2024-05-11T19:35:34.730142",
     "exception": false,
     "start_time": "2024-05-11T19:35:34.713652",
     "status": "completed"
    },
    "tags": []
   },
   "outputs": [],
   "source": [
    "# predicting y_test using the model\n",
    "y_pred = model.predict(x_test)\n",
    "x1 = x_test.reshape(-1, 1)"
   ]
  },
  {
   "cell_type": "code",
   "execution_count": 7,
   "id": "a9cdec2c",
   "metadata": {
    "execution": {
     "iopub.execute_input": "2024-05-11T19:35:34.741110Z",
     "iopub.status.busy": "2024-05-11T19:35:34.740694Z",
     "iopub.status.idle": "2024-05-11T19:35:34.746660Z",
     "shell.execute_reply": "2024-05-11T19:35:34.745606Z"
    },
    "papermill": {
     "duration": 0.014432,
     "end_time": "2024-05-11T19:35:34.749159",
     "exception": false,
     "start_time": "2024-05-11T19:35:34.734727",
     "status": "completed"
    },
    "tags": []
   },
   "outputs": [
    {
     "name": "stdout",
     "output_type": "stream",
     "text": [
      "[[ 8.8]\n",
      " [ 9.1]\n",
      " [ 9.6]\n",
      " [ 9.7]\n",
      " [10.4]\n",
      " [10.6]]\n"
     ]
    }
   ],
   "source": [
    "# outputting y_pred\n",
    "y_pred = model.predict(x1)\n",
    "print(x1)"
   ]
  },
  {
   "cell_type": "code",
   "execution_count": 8,
   "id": "35a6d36b",
   "metadata": {
    "execution": {
     "iopub.execute_input": "2024-05-11T19:35:34.760583Z",
     "iopub.status.busy": "2024-05-11T19:35:34.759904Z",
     "iopub.status.idle": "2024-05-11T19:35:34.767471Z",
     "shell.execute_reply": "2024-05-11T19:35:34.766076Z"
    },
    "papermill": {
     "duration": 0.016749,
     "end_time": "2024-05-11T19:35:34.770565",
     "exception": false,
     "start_time": "2024-05-11T19:35:34.753816",
     "status": "completed"
    },
    "tags": []
   },
   "outputs": [
    {
     "name": "stdout",
     "output_type": "stream",
     "text": [
      "the value of mse: 35766738.23965802\n",
      "the value of r2: 0.07028895951395742\n"
     ]
    }
   ],
   "source": [
    "# evaluating the model\n",
    "mse = mean_squared_error(y_test, y_pred)\n",
    "r2 = r2_score(y_test, y_pred)\n",
    "\n",
    "print ('the value of mse:', mse)\n",
    "print ('the value of r2:', r2)"
   ]
  },
  {
   "cell_type": "code",
   "execution_count": 9,
   "id": "341fcfc4",
   "metadata": {
    "execution": {
     "iopub.execute_input": "2024-05-11T19:35:34.781917Z",
     "iopub.status.busy": "2024-05-11T19:35:34.781470Z",
     "iopub.status.idle": "2024-05-11T19:35:35.255739Z",
     "shell.execute_reply": "2024-05-11T19:35:35.254160Z"
    },
    "papermill": {
     "duration": 0.483223,
     "end_time": "2024-05-11T19:35:35.258490",
     "exception": false,
     "start_time": "2024-05-11T19:35:34.775267",
     "status": "completed"
    },
    "tags": []
   },
   "outputs": [
    {
     "data": {
      "text/plain": [
       "Text(0.5, 1.0, ' simple linear regression graph')"
      ]
     },
     "execution_count": 9,
     "metadata": {},
     "output_type": "execute_result"
    },
    {
     "data": {
      "image/png": "[encoded data removed]",
      "text/plain": [
       "<Figure size 640x480 with 1 Axes>"
      ]
     },
     "metadata": {},
     "output_type": "display_data"
    }
   ],
   "source": [
    "# visualizing the model\n",
    "plt.scatter(x_test, y_test, color = 'green')\n",
    "plt.plot(x_test, y_pred, color = 'blue')\n",
    "plt.xlabel('YearsExperience')\n",
    "plt.ylabel('Salary')\n",
    "plt.title(' simple linear regression graph')"
   ]
  }
 ],
 "metadata": {
  "kaggle": {
   "accelerator": "none",
   "dataSources": [
    {
     "datasetId": 2799910,
     "sourceId": 4832081,
     "sourceType": "datasetVersion"
    }
   ],
   "dockerImageVersionId": 30698,
   "isGpuEnabled": false,
   "isInternetEnabled": true,
   "language": "python",
   "sourceType": "notebook"
  },
  "kernelspec": {
   "display_name": "Python 3",
   "language": "python",
   "name": "python3"
  },
  "language_info": {
   "codemirror_mode": {
    "name": "ipython",
    "version": 3
   },
   "file_extension": ".py",
   "mimetype": "text/x-python",
   "name": "python",
   "nbconvert_exporter": "python",
   "pygments_lexer": "ipython3",
   "version": "3.10.13"
  },
  "papermill": {
   "default_parameters": {},
   "duration": 6.805297,
   "end_time": "2024-05-11T19:35:35.986356",
   "environment_variables": {},
   "exception": null,
   "input_path": "__notebook__.ipynb",
   "output_path": "__notebook__.ipynb",
   "parameters": {},
   "start_time": "2024-05-11T19:35:29.181059",
   "version": "2.5.0"
  }
 },
 "nbformat": 4,
 "nbformat_minor": 5
}
